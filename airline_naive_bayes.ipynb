{
 "cells": [
  {
   "cell_type": "code",
   "execution_count": 1,
   "metadata": {
    "collapsed": false
   },
   "outputs": [],
   "source": [
    "%matplotlib inline\n",
    "from sklearn.cross_validation import train_test_split\n",
    "from nltk.corpus import stopwords\n",
    "import matplotlib.pyplot as plt\n",
    "from __future__ import division\n",
    "from collections import Counter\n",
    "import pandas as pd\n",
    "import numpy as np\n",
    "import string\n",
    "import seaborn as sns\n",
    "import re\n",
    "from sklearn.feature_extraction.text import CountVectorizer\n",
    "from sklearn.pipeline import Pipeline\n",
    "from sklearn.linear_model import SGDClassifier\n",
    "from sklearn.grid_search import GridSearchCV"
   ]
  },
  {
   "cell_type": "code",
   "execution_count": 2,
   "metadata": {
    "collapsed": false
   },
   "outputs": [
    {
     "data": {
      "text/plain": [
       "Index(['tweet_id', 'airline_sentiment', 'airline_sentiment_confidence',\n",
       "       'negativereason', 'negativereason_confidence', 'airline',\n",
       "       'airline_sentiment_gold', 'name', 'negativereason_gold',\n",
       "       'retweet_count', 'text', 'tweet_coord', 'tweet_created',\n",
       "       'tweet_location', 'user_timezone'],\n",
       "      dtype='object')"
      ]
     },
     "execution_count": 2,
     "metadata": {},
     "output_type": "execute_result"
    }
   ],
   "source": [
    "tweets_data_path = 'Tweets.csv'\n",
    "tweets = pd.read_csv(tweets_data_path, header=0, parse_dates=['tweet_created'])\n",
    "df = tweets.copy()[['airline_sentiment', 'text']]\n",
    "tweets.columns"
   ]
  },
  {
   "cell_type": "markdown",
   "metadata": {},
   "source": [
    "Clean tweet text."
   ]
  },
  {
   "cell_type": "code",
   "execution_count": 49,
   "metadata": {
    "collapsed": true
   },
   "outputs": [],
   "source": [
    "# Define functions to process Tweet text and remove stop words\n",
    "def ProTweets(tweet):\n",
    "    tweet = re.sub('@\\w+', '', tweet)\n",
    "    tweet = ''.join(c for c in tweet if c not in string.punctuation)\n",
    "    tweet = re.sub('((www\\S+)|(http\\S+))', 'urlsite', tweet)\n",
    "    #tweet = re.sub(r'\\d+', 'contnum', tweet)\n",
    "    tweet = re.sub(' +',' ', tweet)\n",
    "    tweet = tweet.lower().strip()\n",
    "    return tweet\n",
    "\n",
    "def rmStopWords(tweet, stop_words):\n",
    "    text = tweet.split()\n",
    "    text = ' '.join(word for word in text if word not in stop_words)\n",
    "    return text"
   ]
  },
  {
   "cell_type": "code",
   "execution_count": 51,
   "metadata": {
    "collapsed": true
   },
   "outputs": [],
   "source": [
    "stop_words = set(stopwords.words('english'))\n",
    "pro_tweets = []\n",
    "for tweet in df['text']:\n",
    "    processed = ProTweets(tweet)\n",
    "    pro_stopw = rmStopWords(processed, stop_words)\n",
    "    pro_tweets.append(pro_stopw)\n",
    "    \n",
    "df['pro_text'] = pro_tweets"
   ]
  },
  {
   "cell_type": "markdown",
   "metadata": {
    "collapsed": true
   },
   "source": [
    "Encode airline sentiment and get train and test sets."
   ]
  },
  {
   "cell_type": "code",
   "execution_count": 52,
   "metadata": {
    "collapsed": false
   },
   "outputs": [],
   "source": [
    "from sklearn.preprocessing import LabelEncoder\n",
    "le = LabelEncoder()\n",
    "df['airline_sentiment_encoded'] = le.fit_transform(df.airline_sentiment.values)\n",
    "\n",
    "X = df.drop('airline_sentiment_encoded', axis=1)\n",
    "y = df[['airline_sentiment_encoded', 'airline_sentiment']]\n",
    "X_train, X_test, y_train, y_test = train_test_split(X, y,\n",
    "                                                   test_size=0.33, random_state=0)"
   ]
  },
  {
   "cell_type": "markdown",
   "metadata": {},
   "source": [
    "A pipeline to create a bag of words representation of the tweets, then fit a multinomial NB classifier and tune some hyperparamters."
   ]
  },
  {
   "cell_type": "code",
   "execution_count": 53,
   "metadata": {
    "collapsed": false
   },
   "outputs": [
    {
     "name": "stdout",
     "output_type": "stream",
     "text": [
      "Best score: 0.761\n",
      "Best parameters set:\n",
      "\tclf__alpha: 0.1\n",
      "\tvect__min_df: 0\n",
      "\tvect__ngram_range: (1, 2)\n"
     ]
    }
   ],
   "source": [
    "from sklearn.feature_extraction.text import CountVectorizer\n",
    "from sklearn.naive_bayes import MultinomialNB\n",
    "\n",
    "params = {\n",
    "    'vect__ngram_range': ((1, 1), (1, 2)),\n",
    "    'vect__min_df': [0, 0.000001, 0.00001,0.0001],\n",
    "    'clf__alpha': [0, 0.01, 0.1, 1, 10, 100]\n",
    "}\n",
    "\n",
    "\n",
    "def runPipeLine(X_train, y_train, params):\n",
    "    \n",
    "    pipeline = Pipeline([\n",
    "        ('vect', CountVectorizer()),\n",
    "        ('clf', MultinomialNB()),\n",
    "    ])\n",
    "\n",
    "    grid_search = GridSearchCV(pipeline, params, n_jobs=-1)\n",
    "    grid_search.fit(X_train, y_train)\n",
    "    print(\"Best score: %0.3f\" % grid_search.best_score_)\n",
    "    print(\"Best parameters set:\")\n",
    "    best_parameters = grid_search.best_estimator_.get_params()\n",
    "    for param_name in sorted(params.keys()):\n",
    "        print(\"\\t%s: %r\" % (param_name, best_parameters[param_name]))\n",
    "    return grid_search\n",
    "gs = runPipeLine(X_train.pro_text.values, y_train.airline_sentiment_encoded.values, params=params)"
   ]
  },
  {
   "cell_type": "markdown",
   "metadata": {},
   "source": [
    "See how the best estimator performs on the test set."
   ]
  },
  {
   "cell_type": "code",
   "execution_count": 54,
   "metadata": {
    "collapsed": false
   },
   "outputs": [
    {
     "name": "stdout",
     "output_type": "stream",
     "text": [
      "Accuracy on test set 0.7697\n"
     ]
    }
   ],
   "source": [
    "vect = gs.best_estimator_.named_steps['vect']\n",
    "clf = gs.best_estimator_.named_steps['clf']\n",
    "test_bag = vect.transform(X_test.pro_text.values)\n",
    "print(\"Accuracy on test set {:.4f}\".format(clf.score(test_bag, y_test.airline_sentiment_encoded.values.reshape(-1,1))))\n"
   ]
  },
  {
   "cell_type": "markdown",
   "metadata": {},
   "source": [
    "Which words does our classifier most strongly associate with negative and positive tweets?"
   ]
  },
  {
   "cell_type": "code",
   "execution_count": 78,
   "metadata": {
    "collapsed": false
   },
   "outputs": [],
   "source": [
    "words = pd.Series(gs.best_estimator_.named_steps['vect'].get_feature_names())\n",
    "neg_coef = gs.best_estimator_.named_steps['clf'].coef_[0]\n",
    "pos_coef = gs.best_estimator_.named_steps['clf'].coef_[2]\n",
    "neg_ind_to_sort = np.argsort(neg_coef)\n",
    "pos_ind_to_sort = np.argsort(pos_coef)\n",
    "neg_words = words.iloc[neg_ind_to_sort[-25:][::-1]]\n",
    "pos_words = words.iloc[pos_ind_to_sort[-25:][::-1]]"
   ]
  },
  {
   "cell_type": "code",
   "execution_count": 79,
   "metadata": {
    "collapsed": false
   },
   "outputs": [
    {
     "data": {
      "text/plain": [
       "24533                 flight\n",
       "28547                    get\n",
       "12419              cancelled\n",
       "55752                service\n",
       "33255                  hours\n",
       "31672                   help\n",
       "32298                   hold\n",
       "17067               customer\n",
       "62913                   time\n",
       "34232                     im\n",
       "48395                  plane\n",
       "58955                  still\n",
       "6249                     amp\n",
       "66779                     us\n",
       "12508                   cant\n",
       "18303                delayed\n",
       "12004                   call\n",
       "17107       customer service\n",
       "33100                   hour\n",
       "25926              flightled\n",
       "12436    cancelled flightled\n",
       "66711                urlsite\n",
       "45550                    one\n",
       "9076                     bag\n",
       "20242                   dont\n",
       "dtype: object"
      ]
     },
     "execution_count": 79,
     "metadata": {},
     "output_type": "execute_result"
    }
   ],
   "source": [
    "neg_words"
   ]
  },
  {
   "cell_type": "code",
   "execution_count": 80,
   "metadata": {
    "collapsed": false
   },
   "outputs": [
    {
     "data": {
      "text/plain": [
       "61610              thanks\n",
       "61421               thank\n",
       "24533              flight\n",
       "66711             urlsite\n",
       "30243               great\n",
       "55752             service\n",
       "39670                love\n",
       "43002                much\n",
       "17067            customer\n",
       "30704                guys\n",
       "28547                 get\n",
       "10057                best\n",
       "29808                good\n",
       "29962                 got\n",
       "17107    customer service\n",
       "62913                time\n",
       "8579              awesome\n",
       "63443               today\n",
       "34232                  im\n",
       "66779                  us\n",
       "5072              airline\n",
       "6105              amazing\n",
       "26902              flying\n",
       "31672                help\n",
       "6249                  amp\n",
       "dtype: object"
      ]
     },
     "execution_count": 80,
     "metadata": {},
     "output_type": "execute_result"
    }
   ],
   "source": [
    "pos_words"
   ]
  },
  {
   "cell_type": "markdown",
   "metadata": {
    "collapsed": false
   },
   "source": [
    "Examine our mistakes."
   ]
  },
  {
   "cell_type": "code",
   "execution_count": 88,
   "metadata": {
    "collapsed": false
   },
   "outputs": [
    {
     "name": "stderr",
     "output_type": "stream",
     "text": [
      "C:\\Users\\lid92al\\WinPython-64bit-3.4.4.2\\python-3.4.4.amd64\\lib\\site-packages\\ipykernel\\__main__.py:5: SettingWithCopyWarning: \n",
      "A value is trying to be set on a copy of a slice from a DataFrame.\n",
      "Try using .loc[row_indexer,col_indexer] = value instead\n",
      "\n",
      "See the caveats in the documentation: http://pandas.pydata.org/pandas-docs/stable/indexing.html#indexing-view-versus-copy\n",
      "C:\\Users\\lid92al\\WinPython-64bit-3.4.4.2\\python-3.4.4.amd64\\lib\\site-packages\\ipykernel\\__main__.py:6: SettingWithCopyWarning: \n",
      "A value is trying to be set on a copy of a slice from a DataFrame.\n",
      "Try using .loc[row_indexer,col_indexer] = value instead\n",
      "\n",
      "See the caveats in the documentation: http://pandas.pydata.org/pandas-docs/stable/indexing.html#indexing-view-versus-copy\n"
     ]
    }
   ],
   "source": [
    "preds = gs.best_estimator_.predict(X_test.pro_text.values)\n",
    "missed_indices = preds != y_test.airline_sentiment_encoded.values\n",
    "missed_preds = pd.Series(preds[missed_indices])\n",
    "missed_df = X_test.iloc[missed_indices,:]\n",
    "missed_df['predicted_sentiment'] = missed_preds.values\n",
    "missed_df['predicted_sentiment'] = le.inverse_transform(missed_df.predicted_sentiment)"
   ]
  },
  {
   "cell_type": "markdown",
   "metadata": {},
   "source": [
    "As shown below, our classifier struggled the most with neutral tweets."
   ]
  },
  {
   "cell_type": "code",
   "execution_count": 89,
   "metadata": {
    "collapsed": false
   },
   "outputs": [
    {
     "data": {
      "text/plain": [
       "<matplotlib.axes._subplots.AxesSubplot at 0xc2152b0>"
      ]
     },
     "execution_count": 89,
     "metadata": {},
     "output_type": "execute_result"
    },
    {
     "data": {
      "image/png": "[encoded data removed]",
      "text/plain": [
       "<matplotlib.figure.Figure at 0xb338a90>"
      ]
     },
     "metadata": {},
     "output_type": "display_data"
    }
   ],
   "source": [
    "sns.countplot(data=missed_df, x='airline_sentiment',  order=['negative', 'neutral', 'positive'])"
   ]
  },
  {
   "cell_type": "markdown",
   "metadata": {},
   "source": [
    "The majority of our mistakes were classifying non-negative tweets as negative."
   ]
  },
  {
   "cell_type": "code",
   "execution_count": 90,
   "metadata": {
    "collapsed": false
   },
   "outputs": [
    {
     "data": {
      "text/plain": [
       "<matplotlib.axes._subplots.AxesSubplot at 0xb338828>"
      ]
     },
     "execution_count": 90,
     "metadata": {},
     "output_type": "execute_result"
    },
    {
     "data": {
      "image/png": "[encoded data removed]",
      "text/plain": [
       "<matplotlib.figure.Figure at 0xcebe8d0>"
      ]
     },
     "metadata": {},
     "output_type": "display_data"
    }
   ],
   "source": [
    "sns.countplot(data=missed_df, x='predicted_sentiment' , order=['negative', 'neutral', 'positive'])"
   ]
  },
  {
   "cell_type": "markdown",
   "metadata": {},
   "source": [
    "We often classified neutral tweets as negative, as can be seen by the increased density of points in that region below."
   ]
  },
  {
   "cell_type": "code",
   "execution_count": 40,
   "metadata": {
    "collapsed": false
   },
   "outputs": [
    {
     "data": {
      "text/plain": [
       "<matplotlib.axes._subplots.AxesSubplot at 0x455f0f0>"
      ]
     },
     "execution_count": 40,
     "metadata": {},
     "output_type": "execute_result"
    },
    {
     "data": {
      "image/png": "[encoded data removed]",
      "text/plain": [
       "<matplotlib.figure.Figure at 0xbd08358>"
      ]
     },
     "metadata": {},
     "output_type": "display_data"
    }
   ],
   "source": [
    "sns.regplot(x=\"actual\", y=\"predicted\", data=missed_df, fit_reg=False, x_jitter= 0.3, y_jitter=0.3,  scatter_kws={'alpha': 0.5})"
   ]
  }
 ],
 "metadata": {
  "kernelspec": {
   "display_name": "Python 3",
   "language": "python",
   "name": "python3"
  },
  "language_info": {
   "codemirror_mode": {
    "name": "ipython",
    "version": 3
   },
   "file_extension": ".py",
   "mimetype": "text/x-python",
   "name": "python",
   "nbconvert_exporter": "python",
   "pygments_lexer": "ipython3",
   "version": "3.5.1"
  }
 },
 "nbformat": 4,
 "nbformat_minor": 0
}
